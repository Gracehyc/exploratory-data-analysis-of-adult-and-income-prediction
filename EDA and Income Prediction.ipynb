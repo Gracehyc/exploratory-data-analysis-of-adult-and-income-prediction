{
 "cells": [
  {
   "cell_type": "code",
   "execution_count": 1,
   "id": "e7a021ec",
   "metadata": {},
   "outputs": [],
   "source": [
    "import numpy as np\n",
    "import pandas as pd\n",
    "from statsmodels.graphics.gofplots import qqplot\n",
    "import seaborn as sns\n",
    "import matplotlib.pyplot as plt\n",
    "import statsmodels.api as sm\n",
    "from scipy.stats import pearsonr\n",
    "from sklearn import linear_model\n",
    "from mpl_toolkits.mplot3d import Axes3D\n",
    "from sklearn.preprocessing import StandardScaler\n",
    "import pandas as pd\n",
    "import numpy as np\n",
    "import matplotlib.pyplot as plt\n",
    "import pdb\n",
    "import matplotlib.pyplot as plt\n",
    "import seaborn as sns\n",
    "\n",
    "from sklearn.model_selection import train_test_split\n",
    "from sklearn.model_selection import cross_val_score\n",
    "from sklearn.metrics import roc_auc_score\n",
    "from sklearn.metrics import classification_report\n",
    "from sklearn.model_selection import learning_curve\n",
    "from sklearn.model_selection import GridSearchCV\n",
    "from sklearn.naive_bayes import GaussianNB\n",
    "\n",
    "from sklearn.linear_model import LogisticRegression\n",
    "from sklearn.naive_bayes import BernoulliNB\n",
    "from sklearn.naive_bayes import MultinomialNB\n",
    "\n",
    "from sklearn.ensemble import ExtraTreesClassifier\n",
    "from sklearn.ensemble import RandomForestClassifier\n",
    "from sklearn.tree import DecisionTreeClassifier\n",
    "from regressors import stats\n",
    "from sklearn.tree import plot_tree"
   ]
  },
  {
   "cell_type": "code",
   "execution_count": 2,
   "id": "ab2880a9",
   "metadata": {},
   "outputs": [
    {
     "name": "stdout",
     "output_type": "stream",
     "text": [
      "<class 'pandas.core.frame.DataFrame'>\n",
      "RangeIndex: 32561 entries, 0 to 32560\n",
      "Data columns (total 15 columns):\n",
      " #   Column          Non-Null Count  Dtype \n",
      "---  ------          --------------  ----- \n",
      " 0   age             32561 non-null  int64 \n",
      " 1   workclass       32561 non-null  object\n",
      " 2   fnlwgt          32561 non-null  int64 \n",
      " 3   education       32561 non-null  object\n",
      " 4   education_num   32561 non-null  int64 \n",
      " 5   marital_status  32561 non-null  object\n",
      " 6   occupation      32561 non-null  object\n",
      " 7   relationship    32561 non-null  object\n",
      " 8   race            32561 non-null  object\n",
      " 9   sex             32561 non-null  object\n",
      " 10  capital_gain    32561 non-null  int64 \n",
      " 11  capital_loss    32561 non-null  int64 \n",
      " 12  hours_per_week  32561 non-null  int64 \n",
      " 13  native_country  32561 non-null  object\n",
      " 14  income          32561 non-null  object\n",
      "dtypes: int64(6), object(9)\n",
      "memory usage: 3.7+ MB\n"
     ]
    }
   ],
   "source": [
    "#Q1:How many observations (rows) and how many variables (columns) are there in the raw data?\n",
    "#Q2:Produce a table of variables showing their types.\n",
    "#Load data\n",
    "#Rename columns\n",
    "\n",
    "import pandas as pd\n",
    "data = pd.read_csv('D:\\喵\\9.ITOM 6267 Data Mining\\Exploratory Data Analysis of Adult and Income Prediction/adult.csv', header = None)\n",
    "data.rename(columns={0: 'age', 1: 'workclass', 2: 'fnlwgt',3: 'education',4: 'education_num',5: 'marital_status',\n",
    "                    6: 'occupation',7: 'relationship', 8: 'race', 9: 'sex', 10: 'capital_gain',\n",
    "                    11: 'capital_loss', 12: 'hours_per_week', 13: 'native_country', 14: 'income',}, inplace=True)\n",
    "data.info()\n",
    "#Our initial data has 32561 rows and 15 columns\n",
    "#Data types:"
   ]
  },
  {
   "cell_type": "code",
   "execution_count": 3,
   "id": "83eb126c",
   "metadata": {},
   "outputs": [
    {
     "data": {
      "text/html": [
       "<div>\n",
       "<style scoped>\n",
       "    .dataframe tbody tr th:only-of-type {\n",
       "        vertical-align: middle;\n",
       "    }\n",
       "\n",
       "    .dataframe tbody tr th {\n",
       "        vertical-align: top;\n",
       "    }\n",
       "\n",
       "    .dataframe thead th {\n",
       "        text-align: right;\n",
       "    }\n",
       "</style>\n",
       "<table border=\"1\" class=\"dataframe\">\n",
       "  <thead>\n",
       "    <tr style=\"text-align: right;\">\n",
       "      <th></th>\n",
       "      <th>age</th>\n",
       "      <th>workclass</th>\n",
       "      <th>fnlwgt</th>\n",
       "      <th>education</th>\n",
       "      <th>education_num</th>\n",
       "      <th>marital_status</th>\n",
       "      <th>occupation</th>\n",
       "      <th>relationship</th>\n",
       "      <th>race</th>\n",
       "      <th>sex</th>\n",
       "      <th>capital_gain</th>\n",
       "      <th>capital_loss</th>\n",
       "      <th>hours_per_week</th>\n",
       "      <th>native_country</th>\n",
       "      <th>income</th>\n",
       "    </tr>\n",
       "  </thead>\n",
       "  <tbody>\n",
       "    <tr>\n",
       "      <th>0</th>\n",
       "      <td>39</td>\n",
       "      <td>State-gov</td>\n",
       "      <td>77.516</td>\n",
       "      <td>Bachelors</td>\n",
       "      <td>13</td>\n",
       "      <td>Never-married</td>\n",
       "      <td>Adm-clerical</td>\n",
       "      <td>Not-in-family</td>\n",
       "      <td>White</td>\n",
       "      <td>Male</td>\n",
       "      <td>2174</td>\n",
       "      <td>0</td>\n",
       "      <td>40</td>\n",
       "      <td>United-States</td>\n",
       "      <td>&lt;=50K</td>\n",
       "    </tr>\n",
       "    <tr>\n",
       "      <th>1</th>\n",
       "      <td>50</td>\n",
       "      <td>Self-emp-not-inc</td>\n",
       "      <td>83.311</td>\n",
       "      <td>Bachelors</td>\n",
       "      <td>13</td>\n",
       "      <td>Married-civ-spouse</td>\n",
       "      <td>Exec-managerial</td>\n",
       "      <td>Husband</td>\n",
       "      <td>White</td>\n",
       "      <td>Male</td>\n",
       "      <td>0</td>\n",
       "      <td>0</td>\n",
       "      <td>13</td>\n",
       "      <td>United-States</td>\n",
       "      <td>&lt;=50K</td>\n",
       "    </tr>\n",
       "    <tr>\n",
       "      <th>2</th>\n",
       "      <td>38</td>\n",
       "      <td>Private</td>\n",
       "      <td>215.646</td>\n",
       "      <td>HS-grad</td>\n",
       "      <td>9</td>\n",
       "      <td>Divorced</td>\n",
       "      <td>Handlers-cleaners</td>\n",
       "      <td>Not-in-family</td>\n",
       "      <td>White</td>\n",
       "      <td>Male</td>\n",
       "      <td>0</td>\n",
       "      <td>0</td>\n",
       "      <td>40</td>\n",
       "      <td>United-States</td>\n",
       "      <td>&lt;=50K</td>\n",
       "    </tr>\n",
       "    <tr>\n",
       "      <th>3</th>\n",
       "      <td>53</td>\n",
       "      <td>Private</td>\n",
       "      <td>234.721</td>\n",
       "      <td>11th</td>\n",
       "      <td>7</td>\n",
       "      <td>Married-civ-spouse</td>\n",
       "      <td>Handlers-cleaners</td>\n",
       "      <td>Husband</td>\n",
       "      <td>Black</td>\n",
       "      <td>Male</td>\n",
       "      <td>0</td>\n",
       "      <td>0</td>\n",
       "      <td>40</td>\n",
       "      <td>United-States</td>\n",
       "      <td>&lt;=50K</td>\n",
       "    </tr>\n",
       "    <tr>\n",
       "      <th>4</th>\n",
       "      <td>28</td>\n",
       "      <td>Private</td>\n",
       "      <td>338.409</td>\n",
       "      <td>Bachelors</td>\n",
       "      <td>13</td>\n",
       "      <td>Married-civ-spouse</td>\n",
       "      <td>Prof-specialty</td>\n",
       "      <td>Wife</td>\n",
       "      <td>Black</td>\n",
       "      <td>Female</td>\n",
       "      <td>0</td>\n",
       "      <td>0</td>\n",
       "      <td>40</td>\n",
       "      <td>Cuba</td>\n",
       "      <td>&lt;=50K</td>\n",
       "    </tr>\n",
       "  </tbody>\n",
       "</table>\n",
       "</div>"
      ],
      "text/plain": [
       "   age          workclass   fnlwgt   education  education_num  \\\n",
       "0   39          State-gov   77.516   Bachelors             13   \n",
       "1   50   Self-emp-not-inc   83.311   Bachelors             13   \n",
       "2   38            Private  215.646     HS-grad              9   \n",
       "3   53            Private  234.721        11th              7   \n",
       "4   28            Private  338.409   Bachelors             13   \n",
       "\n",
       "        marital_status          occupation    relationship    race      sex  \\\n",
       "0        Never-married        Adm-clerical   Not-in-family   White     Male   \n",
       "1   Married-civ-spouse     Exec-managerial         Husband   White     Male   \n",
       "2             Divorced   Handlers-cleaners   Not-in-family   White     Male   \n",
       "3   Married-civ-spouse   Handlers-cleaners         Husband   Black     Male   \n",
       "4   Married-civ-spouse      Prof-specialty            Wife   Black   Female   \n",
       "\n",
       "   capital_gain  capital_loss  hours_per_week  native_country  income  \n",
       "0          2174             0              40   United-States   <=50K  \n",
       "1             0             0              13   United-States   <=50K  \n",
       "2             0             0              40   United-States   <=50K  \n",
       "3             0             0              40   United-States   <=50K  \n",
       "4             0             0              40            Cuba   <=50K  "
      ]
     },
     "execution_count": 3,
     "metadata": {},
     "output_type": "execute_result"
    }
   ],
   "source": [
    "#Rescale fnlwgt\n",
    "data['fnlwgt'] = data['fnlwgt']/1000\n",
    "data.head()"
   ]
  },
  {
   "cell_type": "code",
   "execution_count": 4,
   "id": "943da7a9",
   "metadata": {},
   "outputs": [
    {
     "name": "stdout",
     "output_type": "stream",
     "text": [
      "<class 'pandas.core.frame.DataFrame'>\n",
      "Int64Index: 6162973 entries, 0 to 32560\n",
      "Data columns (total 15 columns):\n",
      " #   Column          Dtype  \n",
      "---  ------          -----  \n",
      " 0   age             int64  \n",
      " 1   workclass       object \n",
      " 2   fnlwgt          float64\n",
      " 3   education       object \n",
      " 4   education_num   int64  \n",
      " 5   marital_status  object \n",
      " 6   occupation      object \n",
      " 7   relationship    object \n",
      " 8   race            object \n",
      " 9   sex             object \n",
      " 10  capital_gain    int64  \n",
      " 11  capital_loss    int64  \n",
      " 12  hours_per_week  int64  \n",
      " 13  native_country  object \n",
      " 14  income          object \n",
      "dtypes: float64(1), int64(5), object(9)\n",
      "memory usage: 752.3+ MB\n"
     ]
    }
   ],
   "source": [
    "#Re-index using fnlwgt\n",
    "data = data.reindex(data.index.repeat(data['fnlwgt']))\n",
    "data.info()\n",
    "#Our uncompressed data has 6162973 rows and 15 columns"
   ]
  },
  {
   "cell_type": "code",
   "execution_count": 5,
   "id": "4a2e9bb9",
   "metadata": {},
   "outputs": [
    {
     "data": {
      "text/html": [
       "<div>\n",
       "<style scoped>\n",
       "    .dataframe tbody tr th:only-of-type {\n",
       "        vertical-align: middle;\n",
       "    }\n",
       "\n",
       "    .dataframe tbody tr th {\n",
       "        vertical-align: top;\n",
       "    }\n",
       "\n",
       "    .dataframe thead th {\n",
       "        text-align: right;\n",
       "    }\n",
       "</style>\n",
       "<table border=\"1\" class=\"dataframe\">\n",
       "  <thead>\n",
       "    <tr style=\"text-align: right;\">\n",
       "      <th></th>\n",
       "      <th>age</th>\n",
       "      <th>workclass</th>\n",
       "      <th>fnlwgt</th>\n",
       "      <th>education</th>\n",
       "      <th>education_num</th>\n",
       "      <th>marital_status</th>\n",
       "      <th>occupation</th>\n",
       "      <th>relationship</th>\n",
       "      <th>race</th>\n",
       "      <th>sex</th>\n",
       "      <th>capital_gain</th>\n",
       "      <th>capital_loss</th>\n",
       "      <th>hours_per_week</th>\n",
       "      <th>native_country</th>\n",
       "      <th>income</th>\n",
       "    </tr>\n",
       "  </thead>\n",
       "  <tbody>\n",
       "    <tr>\n",
       "      <th>0</th>\n",
       "      <td>39</td>\n",
       "      <td>State-gov</td>\n",
       "      <td>77.516</td>\n",
       "      <td>Bachelors</td>\n",
       "      <td>13</td>\n",
       "      <td>Never-married</td>\n",
       "      <td>Adm-clerical</td>\n",
       "      <td>Not-in-family</td>\n",
       "      <td>White</td>\n",
       "      <td>Male</td>\n",
       "      <td>2174</td>\n",
       "      <td>0</td>\n",
       "      <td>40</td>\n",
       "      <td>United-States</td>\n",
       "      <td>&lt;=50K</td>\n",
       "    </tr>\n",
       "    <tr>\n",
       "      <th>0</th>\n",
       "      <td>39</td>\n",
       "      <td>State-gov</td>\n",
       "      <td>77.516</td>\n",
       "      <td>Bachelors</td>\n",
       "      <td>13</td>\n",
       "      <td>Never-married</td>\n",
       "      <td>Adm-clerical</td>\n",
       "      <td>Not-in-family</td>\n",
       "      <td>White</td>\n",
       "      <td>Male</td>\n",
       "      <td>2174</td>\n",
       "      <td>0</td>\n",
       "      <td>40</td>\n",
       "      <td>United-States</td>\n",
       "      <td>&lt;=50K</td>\n",
       "    </tr>\n",
       "    <tr>\n",
       "      <th>0</th>\n",
       "      <td>39</td>\n",
       "      <td>State-gov</td>\n",
       "      <td>77.516</td>\n",
       "      <td>Bachelors</td>\n",
       "      <td>13</td>\n",
       "      <td>Never-married</td>\n",
       "      <td>Adm-clerical</td>\n",
       "      <td>Not-in-family</td>\n",
       "      <td>White</td>\n",
       "      <td>Male</td>\n",
       "      <td>2174</td>\n",
       "      <td>0</td>\n",
       "      <td>40</td>\n",
       "      <td>United-States</td>\n",
       "      <td>&lt;=50K</td>\n",
       "    </tr>\n",
       "    <tr>\n",
       "      <th>0</th>\n",
       "      <td>39</td>\n",
       "      <td>State-gov</td>\n",
       "      <td>77.516</td>\n",
       "      <td>Bachelors</td>\n",
       "      <td>13</td>\n",
       "      <td>Never-married</td>\n",
       "      <td>Adm-clerical</td>\n",
       "      <td>Not-in-family</td>\n",
       "      <td>White</td>\n",
       "      <td>Male</td>\n",
       "      <td>2174</td>\n",
       "      <td>0</td>\n",
       "      <td>40</td>\n",
       "      <td>United-States</td>\n",
       "      <td>&lt;=50K</td>\n",
       "    </tr>\n",
       "    <tr>\n",
       "      <th>0</th>\n",
       "      <td>39</td>\n",
       "      <td>State-gov</td>\n",
       "      <td>77.516</td>\n",
       "      <td>Bachelors</td>\n",
       "      <td>13</td>\n",
       "      <td>Never-married</td>\n",
       "      <td>Adm-clerical</td>\n",
       "      <td>Not-in-family</td>\n",
       "      <td>White</td>\n",
       "      <td>Male</td>\n",
       "      <td>2174</td>\n",
       "      <td>0</td>\n",
       "      <td>40</td>\n",
       "      <td>United-States</td>\n",
       "      <td>&lt;=50K</td>\n",
       "    </tr>\n",
       "  </tbody>\n",
       "</table>\n",
       "</div>"
      ],
      "text/plain": [
       "   age   workclass  fnlwgt   education  education_num  marital_status  \\\n",
       "0   39   State-gov  77.516   Bachelors             13   Never-married   \n",
       "0   39   State-gov  77.516   Bachelors             13   Never-married   \n",
       "0   39   State-gov  77.516   Bachelors             13   Never-married   \n",
       "0   39   State-gov  77.516   Bachelors             13   Never-married   \n",
       "0   39   State-gov  77.516   Bachelors             13   Never-married   \n",
       "\n",
       "      occupation    relationship    race    sex  capital_gain  capital_loss  \\\n",
       "0   Adm-clerical   Not-in-family   White   Male          2174             0   \n",
       "0   Adm-clerical   Not-in-family   White   Male          2174             0   \n",
       "0   Adm-clerical   Not-in-family   White   Male          2174             0   \n",
       "0   Adm-clerical   Not-in-family   White   Male          2174             0   \n",
       "0   Adm-clerical   Not-in-family   White   Male          2174             0   \n",
       "\n",
       "   hours_per_week  native_country  income  \n",
       "0              40   United-States   <=50K  \n",
       "0              40   United-States   <=50K  \n",
       "0              40   United-States   <=50K  \n",
       "0              40   United-States   <=50K  \n",
       "0              40   United-States   <=50K  "
      ]
     },
     "execution_count": 5,
     "metadata": {},
     "output_type": "execute_result"
    }
   ],
   "source": [
    "data.head()"
   ]
  },
  {
   "cell_type": "code",
   "execution_count": 6,
   "id": "ed3dda0a",
   "metadata": {},
   "outputs": [
    {
     "name": "stdout",
     "output_type": "stream",
     "text": [
      "age                73\n",
      "education_num      16\n",
      "capital_gain      119\n",
      "capital_loss       92\n",
      "hours_per_week     94\n",
      "dtype: int64\n"
     ]
    }
   ],
   "source": [
    "#Q3:Some of the variables appear to be numeric but should be treated as categorical. Your best clue is whether a variable has only a few discrete values. \n",
    "#Which numeric variables should be treated as categorical?\n",
    "\n",
    "#Numeric and categorical variables\n",
    "numvars = data[['age','education_num', 'capital_gain','capital_loss','hours_per_week'] ]\n",
    "catvars = data[['workclass', 'education','marital_status','occupation','relationship','race','sex','native_country','income']] \n",
    "print(numvars.nunique())\n"
   ]
  },
  {
   "cell_type": "code",
   "execution_count": 7,
   "id": "3a8460a2",
   "metadata": {},
   "outputs": [],
   "source": [
    "#education-num should be categorical\n",
    "numvars = data[['age', 'capital_gain','capital_loss','hours_per_week'] ]\n",
    "catvars = data[['workclass', 'education','education_num','marital_status','occupation','relationship','race','sex','native_country','income']]"
   ]
  },
  {
   "cell_type": "code",
   "execution_count": 20,
   "id": "5f3ba623",
   "metadata": {},
   "outputs": [
    {
     "data": {
      "text/html": [
       "<div>\n",
       "<style scoped>\n",
       "    .dataframe tbody tr th:only-of-type {\n",
       "        vertical-align: middle;\n",
       "    }\n",
       "\n",
       "    .dataframe tbody tr th {\n",
       "        vertical-align: top;\n",
       "    }\n",
       "\n",
       "    .dataframe thead th {\n",
       "        text-align: right;\n",
       "    }\n",
       "</style>\n",
       "<table border=\"1\" class=\"dataframe\">\n",
       "  <thead>\n",
       "    <tr style=\"text-align: right;\">\n",
       "      <th></th>\n",
       "      <th>age</th>\n",
       "      <th>capital_gain</th>\n",
       "      <th>capital_loss</th>\n",
       "      <th>hours_per_week</th>\n",
       "    </tr>\n",
       "  </thead>\n",
       "  <tbody>\n",
       "    <tr>\n",
       "      <th>min</th>\n",
       "      <td>17.000000</td>\n",
       "      <td>0.000000</td>\n",
       "      <td>0.000000</td>\n",
       "      <td>1.000000</td>\n",
       "    </tr>\n",
       "    <tr>\n",
       "      <th>max</th>\n",
       "      <td>90.000000</td>\n",
       "      <td>99999.000000</td>\n",
       "      <td>4356.000000</td>\n",
       "      <td>99.000000</td>\n",
       "    </tr>\n",
       "    <tr>\n",
       "      <th>median</th>\n",
       "      <td>36.000000</td>\n",
       "      <td>0.000000</td>\n",
       "      <td>0.000000</td>\n",
       "      <td>40.000000</td>\n",
       "    </tr>\n",
       "    <tr>\n",
       "      <th>mean</th>\n",
       "      <td>37.998747</td>\n",
       "      <td>1079.458664</td>\n",
       "      <td>84.996631</td>\n",
       "      <td>40.308394</td>\n",
       "    </tr>\n",
       "    <tr>\n",
       "      <th>std</th>\n",
       "      <td>13.467073</td>\n",
       "      <td>7433.460583</td>\n",
       "      <td>396.780377</td>\n",
       "      <td>12.096082</td>\n",
       "    </tr>\n",
       "    <tr>\n",
       "      <th>skew</th>\n",
       "      <td>0.594816</td>\n",
       "      <td>11.911920</td>\n",
       "      <td>4.643957</td>\n",
       "      <td>0.204107</td>\n",
       "    </tr>\n",
       "    <tr>\n",
       "      <th>kurtosis</th>\n",
       "      <td>-0.121270</td>\n",
       "      <td>153.291767</td>\n",
       "      <td>20.791694</td>\n",
       "      <td>2.982965</td>\n",
       "    </tr>\n",
       "  </tbody>\n",
       "</table>\n",
       "</div>"
      ],
      "text/plain": [
       "                age  capital_gain  capital_loss  hours_per_week\n",
       "min       17.000000      0.000000      0.000000        1.000000\n",
       "max       90.000000  99999.000000   4356.000000       99.000000\n",
       "median    36.000000      0.000000      0.000000       40.000000\n",
       "mean      37.998747   1079.458664     84.996631       40.308394\n",
       "std       13.467073   7433.460583    396.780377       12.096082\n",
       "skew       0.594816     11.911920      4.643957        0.204107\n",
       "kurtosis  -0.121270    153.291767     20.791694        2.982965"
      ]
     },
     "execution_count": 20,
     "metadata": {},
     "output_type": "execute_result"
    }
   ],
   "source": [
    "#Q4:For numeric variables, produce a table of statistics including missing values, min, max, median, mean, standard deviation, skewness and kurtosis.\n",
    "#Summary statistics for numeric variables\n",
    "numvars.agg(['min','max','median','mean', 'std', 'skew', 'kurtosis'])"
   ]
  },
  {
   "cell_type": "code",
   "execution_count": 21,
   "id": "b0e8c320",
   "metadata": {},
   "outputs": [
    {
     "data": {
      "text/plain": [
       "age               0\n",
       "capital_gain      0\n",
       "capital_loss      0\n",
       "hours_per_week    0\n",
       "dtype: int64"
      ]
     },
     "execution_count": 21,
     "metadata": {},
     "output_type": "execute_result"
    }
   ],
   "source": [
    "#count missing values\n",
    "missing = numvars.isnull().sum()\n",
    "missing\n",
    "#no missing values"
   ]
  },
  {
   "cell_type": "code",
   "execution_count": 24,
   "id": "5782a170",
   "metadata": {},
   "outputs": [
    {
     "data": {
      "text/plain": [
       "age                 26648\n",
       "capital_gain       508705\n",
       "capital_loss       280984\n",
       "hours_per_week    1661925\n",
       "dtype: int64"
      ]
     },
     "execution_count": 24,
     "metadata": {},
     "output_type": "execute_result"
    }
   ],
   "source": [
    "#Q5:How many outliers are present in each numeric variable? Show the tallies in a table. Set them to missing.\n",
    "#Quartile calculations\n",
    "Q1 = numvars.quantile(0.25)\n",
    "Q3 = numvars.quantile(0.75)\n",
    "IQR = Q3 - Q1\n",
    "\n",
    "#Count of outliers for each numeric variable\n",
    "((numvars < (Q1 - 1.5 * IQR)) | (numvars > (Q3 + 1.5 * IQR))).sum()\n",
    "\n",
    "#Imputing too many outliers will distort our data for numerical variables, so we don't do it"
   ]
  },
  {
   "cell_type": "code",
   "execution_count": 25,
   "id": "73a53662",
   "metadata": {},
   "outputs": [
    {
     "name": "stdout",
     "output_type": "stream",
     "text": [
      " Private             4363545\n",
      " Self-emp-not-inc     444963\n",
      " Local-gov            393760\n",
      " ?                    345183\n",
      " State-gov            238352\n",
      " Self-emp-inc         195828\n",
      " Federal-gov          177330\n",
      " Without-pay            2433\n",
      " Never-worked           1579\n",
      "Name: workclass, dtype: int64\n",
      " HS-grad         1985071\n",
      " Some-college    1372414\n",
      " Bachelors       1004341\n",
      " Masters          309031\n",
      " Assoc-voc        250731\n",
      " 11th             228447\n",
      " Assoc-acdm       205850\n",
      " 10th             183186\n",
      " 7th-8th          121178\n",
      " Prof-school      106661\n",
      " 9th              103822\n",
      " 12th              85998\n",
      " 5th-6th           77230\n",
      " Doctorate         76897\n",
      " 1st-4th           40111\n",
      " Preschool         12005\n",
      "Name: education, dtype: int64\n",
      "9     1985071\n",
      "10    1372414\n",
      "13    1004341\n",
      "14     309031\n",
      "11     250731\n",
      "7      228447\n",
      "12     205850\n",
      "6      183186\n",
      "4      121178\n",
      "15     106661\n",
      "5      103822\n",
      "8       85998\n",
      "3       77230\n",
      "16      76897\n",
      "2       40111\n",
      "1       12005\n",
      "Name: education_num, dtype: int64\n",
      " Married-civ-spouse       2789385\n",
      " Never-married            2081907\n",
      " Divorced                  823310\n",
      " Separated                 211080\n",
      " Widowed                   172448\n",
      " Married-spouse-absent      80526\n",
      " Married-AF-spouse           4317\n",
      "Name: marital_status, dtype: int64\n",
      " Craft-repair         785462\n",
      " Prof-specialty       765062\n",
      " Exec-managerial      747816\n",
      " Adm-clerical         722101\n",
      " Sales                694884\n",
      " Other-service        619819\n",
      " Machine-op-inspct    389459\n",
      " ?                    346762\n",
      " Transport-moving     303212\n",
      " Handlers-cleaners    279320\n",
      " Tech-support         177779\n",
      " Farming-fishing      168675\n",
      " Protective-serv      130797\n",
      " Priv-house-serv       29891\n",
      " Armed-Forces           1934\n",
      "Name: occupation, dtype: int64\n",
      " Husband           2461429\n",
      " Not-in-family     1583190\n",
      " Own-child          976465\n",
      " Unmarried          656908\n",
      " Wife               284322\n",
      " Other-relative     200659\n",
      "Name: relationship, dtype: int64\n",
      " White                 5195881\n",
      " Black                  710735\n",
      " Asian-Pac-Islander     165652\n",
      " Other                   53287\n",
      " Amer-Indian-Eskimo      37418\n",
      "Name: race, dtype: int64\n",
      " Male      4167748\n",
      " Female    1995225\n",
      "Name: sex, dtype: int64\n",
      " United-States                 5442110\n",
      " Mexico                         185965\n",
      " ?                              112398\n",
      " Philippines                     32793\n",
      " El-Salvador                     26911\n",
      " Germany                         25868\n",
      " Cuba                            23353\n",
      " Puerto-Rico                     23036\n",
      " Canada                          21700\n",
      " Jamaica                         17146\n",
      " Guatemala                       16933\n",
      " India                           16802\n",
      " England                         16370\n",
      " Dominican-Republic              13411\n",
      " China                           13394\n",
      " Columbia                        13254\n",
      " Italy                           13226\n",
      " South                           13036\n",
      " Japan                           11480\n",
      " Poland                          11004\n",
      " Vietnam                         10907\n",
      " Nicaragua                        9998\n",
      " Taiwan                           9486\n",
      " Haiti                            9175\n",
      " Peru                             8493\n",
      " Iran                             7814\n",
      " France                           5556\n",
      " Portugal                         5480\n",
      " Ecuador                          5190\n",
      " Hong                             4438\n",
      " Greece                           4149\n",
      " Trinadad&Tobago                  4034\n",
      " Laos                             3791\n",
      " Cambodia                         3660\n",
      " Yugoslavia                       3450\n",
      " Honduras                         3314\n",
      " Thailand                         3306\n",
      " Ireland                          3300\n",
      " Outlying-US(Guam-USVI-etc)       2854\n",
      " Hungary                          2339\n",
      " Scotland                         2022\n",
      " Holand-Netherlands                 27\n",
      "Name: native_country, dtype: int64\n"
     ]
    }
   ],
   "source": [
    "#Q6:Count the unique values of each categorical variable, including missing values. Are there any unusual values in any of the categorical variables?\n",
    "#Count the unique values of each categorical variable\n",
    "workclass = data['workclass'].value_counts(sort=True)\n",
    "education = data['education'].value_counts(sort=True)\n",
    "education_num = data['education_num'].value_counts(sort=True)\n",
    "marital_status = data['marital_status'].value_counts(sort=True)\n",
    "occupation = data['occupation'].value_counts(sort=True)\n",
    "relationship = data['relationship'].value_counts(sort=True)\n",
    "race = data['race'].value_counts(sort=True)\n",
    "sex = data['sex'].value_counts(sort=True)\n",
    "native_country = data['native_country'].value_counts(sort=True)\n",
    "\n",
    "print(workclass)\n",
    "print(education)\n",
    "print(education_num)\n",
    "print(marital_status)\n",
    "print(occupation)\n",
    "print(relationship)\n",
    "print(race)\n",
    "print(sex)\n",
    "print(native_country)"
   ]
  },
  {
   "cell_type": "code",
   "execution_count": 8,
   "id": "3f638a5f",
   "metadata": {},
   "outputs": [
    {
     "data": {
      "text/plain": [
       "workclass         0\n",
       "education         0\n",
       "education_num     0\n",
       "marital_status    0\n",
       "occupation        0\n",
       "relationship      0\n",
       "race              0\n",
       "sex               0\n",
       "native_country    0\n",
       "income            0\n",
       "dtype: int64"
      ]
     },
     "execution_count": 8,
     "metadata": {},
     "output_type": "execute_result"
    }
   ],
   "source": [
    "#Q7:Impute the missing values. Be sure to explain how you did that in your presentation.\n",
    "carmissing = catvars.isnull().sum()\n",
    "carmissing\n",
    "# no missing value"
   ]
  },
  {
   "cell_type": "code",
   "execution_count": 9,
   "id": "2d1ebf89",
   "metadata": {},
   "outputs": [
    {
     "data": {
      "text/plain": [
       "<AxesSubplot:xlabel='age', ylabel='Count'>"
      ]
     },
     "execution_count": 9,
     "metadata": {},
     "output_type": "execute_result"
    },
    {
     "data": {
      "image/png": "[encoded data removed]",
      "text/plain": [
       "<Figure size 432x288 with 1 Axes>"
      ]
     },
     "metadata": {
      "needs_background": "light"
     },
     "output_type": "display_data"
    }
   ],
   "source": [
    "#Q8:Produce a histogram or boxplot for each of the numeric variables.\n",
    "#Distribution of Numeric variables\n",
    "import seaborn as sns\n",
    "import matplotlib.pyplot as plt\n",
    "\n",
    "figsize=(5, 5)\n",
    "\n",
    "#Q8 Age Histogram\n",
    "sns.histplot(data=numvars, x=\"age\", color=\"skyblue\", bins = 12)\n"
   ]
  },
  {
   "cell_type": "code",
   "execution_count": 10,
   "id": "6a379ed8",
   "metadata": {},
   "outputs": [
    {
     "data": {
      "text/plain": [
       "<AxesSubplot:title={'center':'Boxplot of age'}>"
      ]
     },
     "execution_count": 10,
     "metadata": {},
     "output_type": "execute_result"
    },
    {
     "data": {
      "image/png": "[encoded data removed]",
      "text/plain": [
       "<Figure size 432x288 with 1 Axes>"
      ]
     },
     "metadata": {
      "needs_background": "light"
     },
     "output_type": "display_data"
    }
   ],
   "source": [
    "data.age.plot.box(title=\"Boxplot of age\",vert=False)"
   ]
  },
  {
   "cell_type": "code",
   "execution_count": 11,
   "id": "9e8c5217",
   "metadata": {},
   "outputs": [
    {
     "data": {
      "text/plain": [
       "<AxesSubplot:xlabel='capital_gain', ylabel='Count'>"
      ]
     },
     "execution_count": 11,
     "metadata": {},
     "output_type": "execute_result"
    },
    {
     "data": {
      "image/png": "[encoded data removed]",
      "text/plain": [
       "<Figure size 432x288 with 1 Axes>"
      ]
     },
     "metadata": {
      "needs_background": "light"
     },
     "output_type": "display_data"
    }
   ],
   "source": [
    "#Q8 Capital Gain Histogram\n",
    "sns.histplot(data=numvars, x=\"capital_gain\", color=\"forestgreen\", bins = 12)\n",
    "#sparse data will not add any information to our analysis"
   ]
  },
  {
   "cell_type": "code",
   "execution_count": 12,
   "id": "b61fd40e",
   "metadata": {},
   "outputs": [
    {
     "data": {
      "text/plain": [
       "<AxesSubplot:title={'center':'Boxplot of capital_gain'}>"
      ]
     },
     "execution_count": 12,
     "metadata": {},
     "output_type": "execute_result"
    },
    {
     "data": {
      "image/png": "[encoded data removed]",
      "text/plain": [
       "<Figure size 432x288 with 1 Axes>"
      ]
     },
     "metadata": {
      "needs_background": "light"
     },
     "output_type": "display_data"
    }
   ],
   "source": [
    "data.capital_gain.plot.box(title=\"Boxplot of capital_gain\",vert=False)"
   ]
  },
  {
   "cell_type": "code",
   "execution_count": 13,
   "id": "45cd76a5",
   "metadata": {},
   "outputs": [
    {
     "data": {
      "text/plain": [
       "<AxesSubplot:xlabel='capital_loss', ylabel='Count'>"
      ]
     },
     "execution_count": 13,
     "metadata": {},
     "output_type": "execute_result"
    },
    {
     "data": {
      "image/png": "[encoded data removed]",
      "text/plain": [
       "<Figure size 432x288 with 1 Axes>"
      ]
     },
     "metadata": {
      "needs_background": "light"
     },
     "output_type": "display_data"
    }
   ],
   "source": [
    "#Q8 Capital Loss Histogram\n",
    "sns.histplot(data=numvars, x=\"capital_loss\", color=\"firebrick\", bins = 12)\n",
    "#sparse data will not add any information to our analysis"
   ]
  },
  {
   "cell_type": "code",
   "execution_count": 14,
   "id": "32eb73f4",
   "metadata": {},
   "outputs": [
    {
     "data": {
      "text/plain": [
       "<AxesSubplot:title={'center':'Boxplot of capital_loss'}>"
      ]
     },
     "execution_count": 14,
     "metadata": {},
     "output_type": "execute_result"
    },
    {
     "data": {
      "image/png": "[encoded data removed]",
      "text/plain": [
       "<Figure size 432x288 with 1 Axes>"
      ]
     },
     "metadata": {
      "needs_background": "light"
     },
     "output_type": "display_data"
    }
   ],
   "source": [
    "data.capital_loss.plot.box(title=\"Boxplot of capital_loss\",vert=False)"
   ]
  },
  {
   "cell_type": "code",
   "execution_count": 15,
   "id": "022a1bcb",
   "metadata": {},
   "outputs": [
    {
     "data": {
      "text/plain": [
       "<AxesSubplot:xlabel='hours_per_week', ylabel='Count'>"
      ]
     },
     "execution_count": 15,
     "metadata": {},
     "output_type": "execute_result"
    },
    {
     "data": {
      "image/png": "[encoded data removed]",
      "text/plain": [
       "<Figure size 432x288 with 1 Axes>"
      ]
     },
     "metadata": {
      "needs_background": "light"
     },
     "output_type": "display_data"
    }
   ],
   "source": [
    "#Q8 Hours per Week Histogram\n",
    "sns.histplot(data=numvars, x=\"hours_per_week\", color=\"dodgerblue\", bins = 12)"
   ]
  },
  {
   "cell_type": "code",
   "execution_count": 16,
   "id": "cd9e4f24",
   "metadata": {},
   "outputs": [
    {
     "data": {
      "text/plain": [
       "<AxesSubplot:title={'center':'Boxplot of hours_per_week'}>"
      ]
     },
     "execution_count": 16,
     "metadata": {},
     "output_type": "execute_result"
    },
    {
     "data": {
      "image/png": "[encoded data removed]",
      "text/plain": [
       "<Figure size 432x288 with 1 Axes>"
      ]
     },
     "metadata": {
      "needs_background": "light"
     },
     "output_type": "display_data"
    }
   ],
   "source": [
    "data.hours_per_week.plot.box(title=\"Boxplot of hours_per_week\",vert=False)"
   ]
  },
  {
   "cell_type": "code",
   "execution_count": 17,
   "id": "c6b7f169",
   "metadata": {},
   "outputs": [],
   "source": [
    "#impute ? with most frequent observation\n",
    "data['workclass'] = data['workclass'].replace(' ?',np.nan)\n",
    "data['occupation'] = data['occupation'].replace(' ?',np.nan)\n",
    "\n",
    "data.dropna(how='any',inplace=True)"
   ]
  },
  {
   "cell_type": "code",
   "execution_count": 18,
   "id": "181256cd",
   "metadata": {},
   "outputs": [
    {
     "data": {
      "text/plain": [
       "<AxesSubplot:>"
      ]
     },
     "execution_count": 18,
     "metadata": {},
     "output_type": "execute_result"
    },
    {
     "data": {
      "image/png": "[encoded data removed]",
      "text/plain": [
       "<Figure size 432x288 with 1 Axes>"
      ]
     },
     "metadata": {
      "needs_background": "light"
     },
     "output_type": "display_data"
    }
   ],
   "source": [
    "#Q9:Produce a bar chart for each of the categorical variables showing the counts for each unique value.\n",
    "# Workclass \n",
    "data['workclass'].value_counts().plot(kind='barh', color = \"navy\")"
   ]
  },
  {
   "cell_type": "code",
   "execution_count": 19,
   "id": "9a8e6045",
   "metadata": {},
   "outputs": [
    {
     "data": {
      "text/plain": [
       "<AxesSubplot:>"
      ]
     },
     "execution_count": 19,
     "metadata": {},
     "output_type": "execute_result"
    },
    {
     "data": {
      "image/png": "[encoded data removed]",
      "text/plain": [
       "<Figure size 432x288 with 1 Axes>"
      ]
     },
     "metadata": {
      "needs_background": "light"
     },
     "output_type": "display_data"
    }
   ],
   "source": [
    "#Q9 Education\n",
    "data['education'].value_counts().plot(kind='barh', color = \"navy\")"
   ]
  },
  {
   "cell_type": "code",
   "execution_count": 20,
   "id": "c2b80ee3",
   "metadata": {},
   "outputs": [
    {
     "data": {
      "text/plain": [
       "<AxesSubplot:>"
      ]
     },
     "execution_count": 20,
     "metadata": {},
     "output_type": "execute_result"
    },
    {
     "data": {
      "image/png": "[encoded data removed]",
      "text/plain": [
       "<Figure size 432x288 with 1 Axes>"
      ]
     },
     "metadata": {
      "needs_background": "light"
     },
     "output_type": "display_data"
    }
   ],
   "source": [
    "#Q9 Marital Status\n",
    "data['marital_status'].value_counts().plot(kind='barh', color = \"navy\")"
   ]
  },
  {
   "cell_type": "code",
   "execution_count": 21,
   "id": "0e7c5e6a",
   "metadata": {},
   "outputs": [
    {
     "data": {
      "text/plain": [
       "<AxesSubplot:>"
      ]
     },
     "execution_count": 21,
     "metadata": {},
     "output_type": "execute_result"
    },
    {
     "data": {
      "image/png": "[encoded data removed]",
      "text/plain": [
       "<Figure size 432x288 with 1 Axes>"
      ]
     },
     "metadata": {
      "needs_background": "light"
     },
     "output_type": "display_data"
    }
   ],
   "source": [
    "#Q9 Occupation\n",
    "data['occupation'].value_counts().plot(kind='barh', color = \"navy\")"
   ]
  },
  {
   "cell_type": "code",
   "execution_count": 22,
   "id": "de54a3ec",
   "metadata": {},
   "outputs": [
    {
     "data": {
      "text/plain": [
       "<AxesSubplot:>"
      ]
     },
     "execution_count": 22,
     "metadata": {},
     "output_type": "execute_result"
    },
    {
     "data": {
      "image/png": "[encoded data removed]",
      "text/plain": [
       "<Figure size 432x288 with 1 Axes>"
      ]
     },
     "metadata": {
      "needs_background": "light"
     },
     "output_type": "display_data"
    }
   ],
   "source": [
    "#Q9 Relationship\n",
    "data['relationship'].value_counts().plot(kind='barh', color = \"navy\")"
   ]
  },
  {
   "cell_type": "code",
   "execution_count": 23,
   "id": "55ea1415",
   "metadata": {},
   "outputs": [
    {
     "data": {
      "text/plain": [
       "<AxesSubplot:>"
      ]
     },
     "execution_count": 23,
     "metadata": {},
     "output_type": "execute_result"
    },
    {
     "data": {
      "image/png": "[encoded data removed]",
      "text/plain": [
       "<Figure size 432x288 with 1 Axes>"
      ]
     },
     "metadata": {
      "needs_background": "light"
     },
     "output_type": "display_data"
    }
   ],
   "source": [
    "#Q9 Race\n",
    "data['race'].value_counts().plot(kind='barh', color = \"navy\")"
   ]
  },
  {
   "cell_type": "code",
   "execution_count": 24,
   "id": "a10d81ee",
   "metadata": {},
   "outputs": [
    {
     "data": {
      "text/plain": [
       "<AxesSubplot:>"
      ]
     },
     "execution_count": 24,
     "metadata": {},
     "output_type": "execute_result"
    },
    {
     "data": {
      "image/png": "[encoded data removed]",
      "text/plain": [
       "<Figure size 432x288 with 1 Axes>"
      ]
     },
     "metadata": {
      "needs_background": "light"
     },
     "output_type": "display_data"
    }
   ],
   "source": [
    "#Q9 Sex\n",
    "data['sex'].value_counts().plot(kind='barh', color = \"navy\")"
   ]
  },
  {
   "cell_type": "code",
   "execution_count": 25,
   "id": "bfc810ea",
   "metadata": {},
   "outputs": [
    {
     "data": {
      "text/html": [
       "<div>\n",
       "<style scoped>\n",
       "    .dataframe tbody tr th:only-of-type {\n",
       "        vertical-align: middle;\n",
       "    }\n",
       "\n",
       "    .dataframe tbody tr th {\n",
       "        vertical-align: top;\n",
       "    }\n",
       "\n",
       "    .dataframe thead th {\n",
       "        text-align: right;\n",
       "    }\n",
       "</style>\n",
       "<table border=\"1\" class=\"dataframe\">\n",
       "  <thead>\n",
       "    <tr style=\"text-align: right;\">\n",
       "      <th></th>\n",
       "      <th>age</th>\n",
       "      <th>workclass</th>\n",
       "      <th>fnlwgt</th>\n",
       "      <th>education</th>\n",
       "      <th>education_num</th>\n",
       "      <th>marital_status</th>\n",
       "      <th>occupation</th>\n",
       "      <th>relationship</th>\n",
       "      <th>race</th>\n",
       "      <th>sex</th>\n",
       "      <th>capital_gain</th>\n",
       "      <th>capital_loss</th>\n",
       "      <th>hours_per_week</th>\n",
       "      <th>native_country</th>\n",
       "      <th>income</th>\n",
       "    </tr>\n",
       "  </thead>\n",
       "  <tbody>\n",
       "    <tr>\n",
       "      <th>32560</th>\n",
       "      <td>52</td>\n",
       "      <td>3</td>\n",
       "      <td>287.927</td>\n",
       "      <td>11</td>\n",
       "      <td>8</td>\n",
       "      <td>2</td>\n",
       "      <td>3</td>\n",
       "      <td>5</td>\n",
       "      <td>4</td>\n",
       "      <td>0</td>\n",
       "      <td>15024</td>\n",
       "      <td>0</td>\n",
       "      <td>40</td>\n",
       "      <td>39</td>\n",
       "      <td>1</td>\n",
       "    </tr>\n",
       "    <tr>\n",
       "      <th>32560</th>\n",
       "      <td>52</td>\n",
       "      <td>3</td>\n",
       "      <td>287.927</td>\n",
       "      <td>11</td>\n",
       "      <td>8</td>\n",
       "      <td>2</td>\n",
       "      <td>3</td>\n",
       "      <td>5</td>\n",
       "      <td>4</td>\n",
       "      <td>0</td>\n",
       "      <td>15024</td>\n",
       "      <td>0</td>\n",
       "      <td>40</td>\n",
       "      <td>39</td>\n",
       "      <td>1</td>\n",
       "    </tr>\n",
       "    <tr>\n",
       "      <th>32560</th>\n",
       "      <td>52</td>\n",
       "      <td>3</td>\n",
       "      <td>287.927</td>\n",
       "      <td>11</td>\n",
       "      <td>8</td>\n",
       "      <td>2</td>\n",
       "      <td>3</td>\n",
       "      <td>5</td>\n",
       "      <td>4</td>\n",
       "      <td>0</td>\n",
       "      <td>15024</td>\n",
       "      <td>0</td>\n",
       "      <td>40</td>\n",
       "      <td>39</td>\n",
       "      <td>1</td>\n",
       "    </tr>\n",
       "    <tr>\n",
       "      <th>32560</th>\n",
       "      <td>52</td>\n",
       "      <td>3</td>\n",
       "      <td>287.927</td>\n",
       "      <td>11</td>\n",
       "      <td>8</td>\n",
       "      <td>2</td>\n",
       "      <td>3</td>\n",
       "      <td>5</td>\n",
       "      <td>4</td>\n",
       "      <td>0</td>\n",
       "      <td>15024</td>\n",
       "      <td>0</td>\n",
       "      <td>40</td>\n",
       "      <td>39</td>\n",
       "      <td>1</td>\n",
       "    </tr>\n",
       "    <tr>\n",
       "      <th>32560</th>\n",
       "      <td>52</td>\n",
       "      <td>3</td>\n",
       "      <td>287.927</td>\n",
       "      <td>11</td>\n",
       "      <td>8</td>\n",
       "      <td>2</td>\n",
       "      <td>3</td>\n",
       "      <td>5</td>\n",
       "      <td>4</td>\n",
       "      <td>0</td>\n",
       "      <td>15024</td>\n",
       "      <td>0</td>\n",
       "      <td>40</td>\n",
       "      <td>39</td>\n",
       "      <td>1</td>\n",
       "    </tr>\n",
       "    <tr>\n",
       "      <th>32560</th>\n",
       "      <td>52</td>\n",
       "      <td>3</td>\n",
       "      <td>287.927</td>\n",
       "      <td>11</td>\n",
       "      <td>8</td>\n",
       "      <td>2</td>\n",
       "      <td>3</td>\n",
       "      <td>5</td>\n",
       "      <td>4</td>\n",
       "      <td>0</td>\n",
       "      <td>15024</td>\n",
       "      <td>0</td>\n",
       "      <td>40</td>\n",
       "      <td>39</td>\n",
       "      <td>1</td>\n",
       "    </tr>\n",
       "    <tr>\n",
       "      <th>32560</th>\n",
       "      <td>52</td>\n",
       "      <td>3</td>\n",
       "      <td>287.927</td>\n",
       "      <td>11</td>\n",
       "      <td>8</td>\n",
       "      <td>2</td>\n",
       "      <td>3</td>\n",
       "      <td>5</td>\n",
       "      <td>4</td>\n",
       "      <td>0</td>\n",
       "      <td>15024</td>\n",
       "      <td>0</td>\n",
       "      <td>40</td>\n",
       "      <td>39</td>\n",
       "      <td>1</td>\n",
       "    </tr>\n",
       "    <tr>\n",
       "      <th>32560</th>\n",
       "      <td>52</td>\n",
       "      <td>3</td>\n",
       "      <td>287.927</td>\n",
       "      <td>11</td>\n",
       "      <td>8</td>\n",
       "      <td>2</td>\n",
       "      <td>3</td>\n",
       "      <td>5</td>\n",
       "      <td>4</td>\n",
       "      <td>0</td>\n",
       "      <td>15024</td>\n",
       "      <td>0</td>\n",
       "      <td>40</td>\n",
       "      <td>39</td>\n",
       "      <td>1</td>\n",
       "    </tr>\n",
       "    <tr>\n",
       "      <th>32560</th>\n",
       "      <td>52</td>\n",
       "      <td>3</td>\n",
       "      <td>287.927</td>\n",
       "      <td>11</td>\n",
       "      <td>8</td>\n",
       "      <td>2</td>\n",
       "      <td>3</td>\n",
       "      <td>5</td>\n",
       "      <td>4</td>\n",
       "      <td>0</td>\n",
       "      <td>15024</td>\n",
       "      <td>0</td>\n",
       "      <td>40</td>\n",
       "      <td>39</td>\n",
       "      <td>1</td>\n",
       "    </tr>\n",
       "    <tr>\n",
       "      <th>32560</th>\n",
       "      <td>52</td>\n",
       "      <td>3</td>\n",
       "      <td>287.927</td>\n",
       "      <td>11</td>\n",
       "      <td>8</td>\n",
       "      <td>2</td>\n",
       "      <td>3</td>\n",
       "      <td>5</td>\n",
       "      <td>4</td>\n",
       "      <td>0</td>\n",
       "      <td>15024</td>\n",
       "      <td>0</td>\n",
       "      <td>40</td>\n",
       "      <td>39</td>\n",
       "      <td>1</td>\n",
       "    </tr>\n",
       "  </tbody>\n",
       "</table>\n",
       "</div>"
      ],
      "text/plain": [
       "       age  workclass   fnlwgt  education  education_num  marital_status  \\\n",
       "32560   52          3  287.927         11              8               2   \n",
       "32560   52          3  287.927         11              8               2   \n",
       "32560   52          3  287.927         11              8               2   \n",
       "32560   52          3  287.927         11              8               2   \n",
       "32560   52          3  287.927         11              8               2   \n",
       "32560   52          3  287.927         11              8               2   \n",
       "32560   52          3  287.927         11              8               2   \n",
       "32560   52          3  287.927         11              8               2   \n",
       "32560   52          3  287.927         11              8               2   \n",
       "32560   52          3  287.927         11              8               2   \n",
       "\n",
       "       occupation  relationship  race  sex  capital_gain  capital_loss  \\\n",
       "32560           3             5     4    0         15024             0   \n",
       "32560           3             5     4    0         15024             0   \n",
       "32560           3             5     4    0         15024             0   \n",
       "32560           3             5     4    0         15024             0   \n",
       "32560           3             5     4    0         15024             0   \n",
       "32560           3             5     4    0         15024             0   \n",
       "32560           3             5     4    0         15024             0   \n",
       "32560           3             5     4    0         15024             0   \n",
       "32560           3             5     4    0         15024             0   \n",
       "32560           3             5     4    0         15024             0   \n",
       "\n",
       "       hours_per_week  native_country  income  \n",
       "32560              40              39       1  \n",
       "32560              40              39       1  \n",
       "32560              40              39       1  \n",
       "32560              40              39       1  \n",
       "32560              40              39       1  \n",
       "32560              40              39       1  \n",
       "32560              40              39       1  \n",
       "32560              40              39       1  \n",
       "32560              40              39       1  \n",
       "32560              40              39       1  "
      ]
     },
     "execution_count": 25,
     "metadata": {},
     "output_type": "execute_result"
    }
   ],
   "source": [
    "#turn categorical data into numerical data prior to modeling\n",
    "for col in catvars:\n",
    "    b, c = np.unique(data[col], return_inverse=True) \n",
    "    data[col] = c\n",
    "\n",
    "data.tail(10)\n"
   ]
  },
  {
   "cell_type": "code",
   "execution_count": 26,
   "id": "06332dac",
   "metadata": {},
   "outputs": [
    {
     "data": {
      "text/html": [
       "<div>\n",
       "<style scoped>\n",
       "    .dataframe tbody tr th:only-of-type {\n",
       "        vertical-align: middle;\n",
       "    }\n",
       "\n",
       "    .dataframe tbody tr th {\n",
       "        vertical-align: top;\n",
       "    }\n",
       "\n",
       "    .dataframe thead th {\n",
       "        text-align: right;\n",
       "    }\n",
       "</style>\n",
       "<table border=\"1\" class=\"dataframe\">\n",
       "  <thead>\n",
       "    <tr style=\"text-align: right;\">\n",
       "      <th></th>\n",
       "      <th>correlation</th>\n",
       "      <th>abs_corr</th>\n",
       "    </tr>\n",
       "    <tr>\n",
       "      <th>parameter</th>\n",
       "      <th></th>\n",
       "      <th></th>\n",
       "    </tr>\n",
       "  </thead>\n",
       "  <tbody>\n",
       "    <tr>\n",
       "      <th>education_num</th>\n",
       "      <td>0.339861</td>\n",
       "      <td>0.339861</td>\n",
       "    </tr>\n",
       "    <tr>\n",
       "      <th>relationship</th>\n",
       "      <td>-0.257962</td>\n",
       "      <td>0.257962</td>\n",
       "    </tr>\n",
       "    <tr>\n",
       "      <th>age</th>\n",
       "      <td>0.252128</td>\n",
       "      <td>0.252128</td>\n",
       "    </tr>\n",
       "    <tr>\n",
       "      <th>hours_per_week</th>\n",
       "      <td>0.237258</td>\n",
       "      <td>0.237258</td>\n",
       "    </tr>\n",
       "    <tr>\n",
       "      <th>capital_gain</th>\n",
       "      <td>0.222643</td>\n",
       "      <td>0.222643</td>\n",
       "    </tr>\n",
       "    <tr>\n",
       "      <th>sex</th>\n",
       "      <td>0.212179</td>\n",
       "      <td>0.212179</td>\n",
       "    </tr>\n",
       "    <tr>\n",
       "      <th>marital_status</th>\n",
       "      <td>-0.202624</td>\n",
       "      <td>0.202624</td>\n",
       "    </tr>\n",
       "    <tr>\n",
       "      <th>capital_loss</th>\n",
       "      <td>0.154716</td>\n",
       "      <td>0.154716</td>\n",
       "    </tr>\n",
       "    <tr>\n",
       "      <th>education</th>\n",
       "      <td>0.087855</td>\n",
       "      <td>0.087855</td>\n",
       "    </tr>\n",
       "    <tr>\n",
       "      <th>race</th>\n",
       "      <td>0.073477</td>\n",
       "      <td>0.073477</td>\n",
       "    </tr>\n",
       "    <tr>\n",
       "      <th>occupation</th>\n",
       "      <td>0.056277</td>\n",
       "      <td>0.056277</td>\n",
       "    </tr>\n",
       "    <tr>\n",
       "      <th>native_country</th>\n",
       "      <td>0.027241</td>\n",
       "      <td>0.027241</td>\n",
       "    </tr>\n",
       "    <tr>\n",
       "      <th>workclass</th>\n",
       "      <td>0.023338</td>\n",
       "      <td>0.023338</td>\n",
       "    </tr>\n",
       "    <tr>\n",
       "      <th>fnlwgt</th>\n",
       "      <td>-0.019464</td>\n",
       "      <td>0.019464</td>\n",
       "    </tr>\n",
       "  </tbody>\n",
       "</table>\n",
       "</div>"
      ],
      "text/plain": [
       "                correlation  abs_corr\n",
       "parameter                            \n",
       "education_num      0.339861  0.339861\n",
       "relationship      -0.257962  0.257962\n",
       "age                0.252128  0.252128\n",
       "hours_per_week     0.237258  0.237258\n",
       "capital_gain       0.222643  0.222643\n",
       "sex                0.212179  0.212179\n",
       "marital_status    -0.202624  0.202624\n",
       "capital_loss       0.154716  0.154716\n",
       "education          0.087855  0.087855\n",
       "race               0.073477  0.073477\n",
       "occupation         0.056277  0.056277\n",
       "native_country     0.027241  0.027241\n",
       "workclass          0.023338  0.023338\n",
       "fnlwgt            -0.019464  0.019464"
      ]
     },
     "execution_count": 26,
     "metadata": {},
     "output_type": "execute_result"
    }
   ],
   "source": [
    "#Remove irrelevant features prior to modeling\n",
    "from scipy.stats import pointbiserialr, spearmanr\n",
    "col_names = data.columns\n",
    "\n",
    "param=[]\n",
    "correlation=[]\n",
    "abs_corr=[]\n",
    "\n",
    "for c in col_names:\n",
    "    #Check if binary or continuous\n",
    "    if c != \"income\":\n",
    "        if len(data[c].unique()) <= 2:\n",
    "            corr = spearmanr(data['income'],data[c])[0]\n",
    "        else:\n",
    "            corr = pointbiserialr(data['income'],data[c])[0]\n",
    "        param.append(c)\n",
    "        correlation.append(corr)\n",
    "        abs_corr.append(abs(corr))\n",
    "\n",
    "#Create dataframe for visualization\n",
    "param_df=pd.DataFrame({'correlation':correlation,'parameter':param, 'abs_corr':abs_corr})\n",
    "\n",
    "#Sort by absolute correlation\n",
    "param_df=param_df.sort_values(by=['abs_corr'], ascending=False)\n",
    "\n",
    "#Set parameter name as index\n",
    "param_df=param_df.set_index('parameter')\n",
    "\n",
    "param_df"
   ]
  },
  {
   "cell_type": "code",
   "execution_count": 27,
   "id": "0d5c4f49",
   "metadata": {},
   "outputs": [
    {
     "name": "stdout",
     "output_type": "stream",
     "text": [
      "Best features:\t ['education_num' 'relationship' 'age' 'hours_per_week']\n"
     ]
    }
   ],
   "source": [
    "best_features=param_df.index[0:4].values\n",
    "print('Best features:\\t', best_features)"
   ]
  },
  {
   "cell_type": "code",
   "execution_count": 32,
   "id": "7bf6ce84",
   "metadata": {},
   "outputs": [
    {
     "data": {
      "text/plain": [
       "((4071347, 4), (1744864, 4))"
      ]
     },
     "execution_count": 32,
     "metadata": {},
     "output_type": "execute_result"
    }
   ],
   "source": [
    "#identify predictors and target variable\n",
    "X = data.drop(['income','capital_gain','sex','marital_status','capital_loss','education','race','occupation','native_country','workclass','fnlwgt'], axis=1)\n",
    "\n",
    "y = data['income']\n",
    "#Splitting the Data\n",
    "from sklearn.model_selection import train_test_split\n",
    "X_train, X_test, y_train, y_test = train_test_split(X, y, test_size = 0.3, random_state = 0)\n",
    "\n",
    "#check the shape of X_train and X_test\n",
    "X_train.shape, X_test.shape"
   ]
  },
  {
   "cell_type": "code",
   "execution_count": 35,
   "id": "34ba4101",
   "metadata": {},
   "outputs": [],
   "source": [
    "#Q10.1: Naïve Bayes Model\n",
    "from sklearn.naive_bayes import GaussianNB\n",
    "\n",
    "gnb = GaussianNB()\n",
    "gnb.fit(X_train, y_train)\n",
    "y_pred = gnb.predict(X_test)\n",
    "predicted_probas = gnb.predict_proba(X_test)"
   ]
  },
  {
   "cell_type": "code",
   "execution_count": 36,
   "id": "6f7a09d1",
   "metadata": {},
   "outputs": [
    {
     "name": "stdout",
     "output_type": "stream",
     "text": [
      "Confusion matrix\n",
      "\n",
      " [[1206120  107757]\n",
      " [ 226777  204210]]\n",
      "\n",
      "True Positives(TP1) =  1206120\n",
      "\n",
      "True Negatives(TN1) =  204210\n",
      "\n",
      "False Positives(FP1) =  107757\n",
      "\n",
      "False Negatives(FN1) =  226777\n"
     ]
    },
    {
     "data": {
      "text/plain": [
       "<AxesSubplot:>"
      ]
     },
     "execution_count": 36,
     "metadata": {},
     "output_type": "execute_result"
    },
    {
     "data": {
      "image/png": "[encoded data removed]",
      "text/plain": [
       "<Figure size 432x288 with 2 Axes>"
      ]
     },
     "metadata": {
      "needs_background": "light"
     },
     "output_type": "display_data"
    }
   ],
   "source": [
    "#Q10.2: Naïve Bayes Model Confusion Table\n",
    "from sklearn.metrics import confusion_matrix\n",
    "from sklearn.metrics import classification_report\n",
    "\n",
    "cm1 = confusion_matrix(y_test, y_pred)\n",
    "\n",
    "TP1 = cm1[0,0]\n",
    "TN1 = cm1[1,1]\n",
    "FP1 = cm1[0,1]\n",
    "FN1 = cm1[1,0]\n",
    "\n",
    "\n",
    "print('Confusion matrix\\n\\n', cm1)\n",
    "\n",
    "print('\\nTrue Positives(TP1) = ', cm1[0,0])\n",
    "\n",
    "print('\\nTrue Negatives(TN1) = ', cm1[1,1])\n",
    "\n",
    "print('\\nFalse Positives(FP1) = ', cm1[0,1])\n",
    "\n",
    "print('\\nFalse Negatives(FN1) = ', cm1[1,0])\n",
    "\n",
    "cm1_matrix = pd.DataFrame(data=cm1, columns=['Actual Positive:1', 'Actual Negative:0'], \n",
    "                                 index=['Predict Positive:1', 'Predict Negative:0'])\n",
    "\n",
    "sns.heatmap(cm1_matrix, annot=True, fmt='d', cmap='YlGnBu')"
   ]
  },
  {
   "cell_type": "code",
   "execution_count": 37,
   "id": "2b067182",
   "metadata": {},
   "outputs": [
    {
     "data": {
      "image/png": "[encoded data removed]",
      "text/plain": [
       "<Figure size 432x288 with 1 Axes>"
      ]
     },
     "metadata": {
      "needs_background": "light"
     },
     "output_type": "display_data"
    }
   ],
   "source": [
    "#Q10.2: Naïve Bayes Model ROC Curve\n",
    "\n",
    "import matplotlib.pyplot as plt\n",
    "import scikitplot as skplt\n",
    "skplt.metrics.plot_roc(y_test, predicted_probas)\n",
    "plt.show()"
   ]
  },
  {
   "cell_type": "code",
   "execution_count": 38,
   "id": "425e96d4",
   "metadata": {},
   "outputs": [
    {
     "name": "stdout",
     "output_type": "stream",
     "text": [
      "ROC AUC (Naive Bayes Model) : 0.8298\n"
     ]
    }
   ],
   "source": [
    "#Q10.2: Naïve Bayes Model ROC-AUC\n",
    "from sklearn.metrics import roc_auc_score\n",
    "\n",
    "ROC_AUC1 = roc_auc_score(y_test, predicted_probas[:,1])\n",
    "\n",
    "print('ROC AUC (Naive Bayes Model) : {:.4f}'.format(ROC_AUC1))"
   ]
  },
  {
   "cell_type": "code",
   "execution_count": 39,
   "id": "e8947c21",
   "metadata": {},
   "outputs": [
    {
     "name": "stdout",
     "output_type": "stream",
     "text": [
      "Naïve Bayes Model Metrics:\n",
      "Model accuracy score: 0.8083\n",
      "Misclassification Rate : 0.1917\n",
      "Precision : 0.9180\n",
      "True Positive Rate : 0.8417\n",
      "False Positive Rate : 0.3454\n",
      "Specificity : 0.6546\n",
      "Prevalence : 0.8212\n",
      "ROC AUC (Naive Bayes Model) : 0.8298\n"
     ]
    }
   ],
   "source": [
    "#Q10.3: Naïve Bayes Model Metrics\n",
    "from sklearn.metrics import accuracy_score\n",
    "\n",
    "misclassification = (FP1 + FN1)/float(TP1 + TN1 + FP1 + FN1)\n",
    "true_positive_rate = TP1 / float(TP1 + FN1)\n",
    "false_positive_rate = FP1 / float(FP1 + TN1)\n",
    "specificity = TN1 / (TN1 + FP1)\n",
    "precision = TP1 / float(TP1 + FP1)\n",
    "prevalence = (TP1 + FN1)/float(TP1 + TN1 + FP1 + FN1)\n",
    "print('Naïve Bayes Model Metrics:')\n",
    "print('Model accuracy score: {0:0.4f}'. format(accuracy_score(y_test, y_pred)))\n",
    "print('Misclassification Rate : {0:0.4f}'.format(misclassification))\n",
    "print('Precision : {0:0.4f}'.format(precision))\n",
    "print('True Positive Rate : {0:0.4f}'.format(true_positive_rate))\n",
    "print('False Positive Rate : {0:0.4f}'.format(false_positive_rate))\n",
    "print('Specificity : {0:0.4f}'.format(specificity))\n",
    "print('Prevalence : {0:0.4f}'.format(prevalence))\n",
    "print('ROC AUC (Naive Bayes Model) : {:.4f}'.format(ROC_AUC1))"
   ]
  },
  {
   "cell_type": "code",
   "execution_count": 40,
   "id": "ad4fea09",
   "metadata": {},
   "outputs": [],
   "source": [
    "#Q11.1: Logit Model\n",
    "from sklearn.linear_model import LogisticRegression\n",
    "log = LogisticRegression(solver = 'liblinear')\n",
    "log.fit(X_train, y_train)\n",
    "\n",
    "y_pred_log = log.predict(X_test)\n",
    "y_train_score_log = log.predict(X_train)"
   ]
  },
  {
   "cell_type": "code",
   "execution_count": 41,
   "id": "703a2c70",
   "metadata": {},
   "outputs": [
    {
     "data": {
      "text/html": [
       "<div>\n",
       "<style scoped>\n",
       "    .dataframe tbody tr th:only-of-type {\n",
       "        vertical-align: middle;\n",
       "    }\n",
       "\n",
       "    .dataframe tbody tr th {\n",
       "        vertical-align: top;\n",
       "    }\n",
       "\n",
       "    .dataframe thead th {\n",
       "        text-align: right;\n",
       "    }\n",
       "</style>\n",
       "<table border=\"1\" class=\"dataframe\">\n",
       "  <thead>\n",
       "    <tr style=\"text-align: right;\">\n",
       "      <th></th>\n",
       "      <th>Variable</th>\n",
       "      <th>P Value</th>\n",
       "    </tr>\n",
       "  </thead>\n",
       "  <tbody>\n",
       "    <tr>\n",
       "      <th>0</th>\n",
       "      <td>age</td>\n",
       "      <td>0.0</td>\n",
       "    </tr>\n",
       "    <tr>\n",
       "      <th>1</th>\n",
       "      <td>education_num</td>\n",
       "      <td>0.0</td>\n",
       "    </tr>\n",
       "    <tr>\n",
       "      <th>2</th>\n",
       "      <td>relationship</td>\n",
       "      <td>0.0</td>\n",
       "    </tr>\n",
       "    <tr>\n",
       "      <th>3</th>\n",
       "      <td>hours_per_week</td>\n",
       "      <td>0.0</td>\n",
       "    </tr>\n",
       "  </tbody>\n",
       "</table>\n",
       "</div>"
      ],
      "text/plain": [
       "         Variable  P Value\n",
       "0             age      0.0\n",
       "1   education_num      0.0\n",
       "2    relationship      0.0\n",
       "3  hours_per_week      0.0"
      ]
     },
     "execution_count": 41,
     "metadata": {},
     "output_type": "execute_result"
    }
   ],
   "source": [
    "#Q11.2: Hypothesis testing\n",
    "from regressors import stats\n",
    "PVal = stats.coef_pval(log, X, y)\n",
    "Coeff = log.coef_\n",
    "PVal = PVal[1:]\n",
    "PVal.shape\n",
    "X_Columns = X.columns\n",
    "d = {'Variable':X_Columns, 'P Value':PVal}\n",
    "Summary = pd.DataFrame(d)\n",
    "Summary_Sig = Summary[Summary['P Value'] < 0.05]\n",
    "Summary_Sig"
   ]
  },
  {
   "cell_type": "code",
   "execution_count": 43,
   "id": "b2e0ede3",
   "metadata": {},
   "outputs": [
    {
     "name": "stdout",
     "output_type": "stream",
     "text": [
      "Confusion matrix\n",
      "\n",
      " [[1226433   87444]\n",
      " [ 262257  168730]]\n",
      "\n",
      "True Positives(TP2) =  1226433\n",
      "\n",
      "True Negatives(TN2) =  168730\n",
      "\n",
      "False Positives(FP2) =  87444\n",
      "\n",
      "False Negatives(FN2) =  262257\n"
     ]
    },
    {
     "data": {
      "text/plain": [
       "<AxesSubplot:>"
      ]
     },
     "execution_count": 43,
     "metadata": {},
     "output_type": "execute_result"
    },
    {
     "data": {
      "image/png": "[encoded data removed]",
      "text/plain": [
       "<Figure size 432x288 with 2 Axes>"
      ]
     },
     "metadata": {
      "needs_background": "light"
     },
     "output_type": "display_data"
    }
   ],
   "source": [
    "#Q11.3 Logit Model Confusion Table\n",
    "from sklearn.metrics import confusion_matrix\n",
    "from sklearn.metrics import classification_report\n",
    "\n",
    "cm2 = confusion_matrix(y_test, y_pred_log)\n",
    "\n",
    "TP2 = cm2[0,0]\n",
    "TN2 = cm2[1,1]\n",
    "FP2 = cm2[0,1]\n",
    "FN2 = cm2[1,0]\n",
    "\n",
    "print('Confusion matrix\\n\\n', cm2)\n",
    "\n",
    "print('\\nTrue Positives(TP2) = ', cm2[0,0])\n",
    "\n",
    "print('\\nTrue Negatives(TN2) = ', cm2[1,1])\n",
    "\n",
    "print('\\nFalse Positives(FP2) = ', cm2[0,1])\n",
    "\n",
    "print('\\nFalse Negatives(FN2) = ', cm2[1,0])\n",
    "\n",
    "cm2_matrix = pd.DataFrame(data=cm2, columns=['Actual Positive:1', 'Actual Negative:0'], \n",
    "                                 index=['Predict Positive:1', 'Predict Negative:0'])\n",
    "\n",
    "sns.heatmap(cm2_matrix, annot=True, fmt='d', cmap='YlGnBu')"
   ]
  },
  {
   "cell_type": "code",
   "execution_count": 44,
   "id": "2076cb99",
   "metadata": {},
   "outputs": [
    {
     "data": {
      "image/png": "[encoded data removed]",
      "text/plain": [
       "<Figure size 432x288 with 1 Axes>"
      ]
     },
     "metadata": {
      "needs_background": "light"
     },
     "output_type": "display_data"
    }
   ],
   "source": [
    "#Q11.3 Logit Model ROC Curve\n",
    "import matplotlib.pyplot as plt\n",
    "import scikitplot as skplt\n",
    "\n",
    "predicted_probas2 = log.predict_proba(X_test)\n",
    "skplt.metrics.plot_roc(y_test, predicted_probas2)\n",
    "plt.show()"
   ]
  },
  {
   "cell_type": "code",
   "execution_count": 45,
   "id": "e3500ebf",
   "metadata": {},
   "outputs": [
    {
     "name": "stdout",
     "output_type": "stream",
     "text": [
      "ROC AUC (Logit Model) : 0.8150\n"
     ]
    }
   ],
   "source": [
    "#Q11.3 Logit Model ROC-AUC\n",
    "\n",
    "ROC_AUC2 = roc_auc_score(y_test, predicted_probas2[:,1])\n",
    "\n",
    "print('ROC AUC (Logit Model) : {:.4f}'.format(ROC_AUC2))"
   ]
  },
  {
   "cell_type": "code",
   "execution_count": 46,
   "id": "0bd0a3f0",
   "metadata": {},
   "outputs": [
    {
     "name": "stdout",
     "output_type": "stream",
     "text": [
      "Logit Model Metrics:\n",
      "Model accuracy score: 0.7996\n",
      "Misclassification Rate : 0.2004\n",
      "Precision : 0.9334\n",
      "True Positive Rate : 0.8238\n",
      "False Positive Rate : 0.3413\n",
      "Specificity : 0.6587\n",
      "Prevalence : 0.8532\n",
      "ROC AUC (Logit Model) : 0.8150\n"
     ]
    }
   ],
   "source": [
    "#Q11.4: Logit Model Metrics\n",
    "from sklearn.metrics import accuracy_score\n",
    "\n",
    "misclassification2 = (FP2 + FN2)/float(TP2 + TN2 + FP2 + FN2)\n",
    "true_positive_rate2 = TP2 / float(TP2 + FN2)\n",
    "false_positive_rate2 = FP2 / float(FP2 + TN2)\n",
    "specificity2 = TN2 / (TN2 + FP2)\n",
    "precision2 = TP2 / float(TP2 + FP2)\n",
    "prevalence2 = (TP2 + FN2)/float(TP2 + TN2 + FP2 + FN2)\n",
    "\n",
    "print('Logit Model Metrics:')\n",
    "print('Model accuracy score: {0:0.4f}'. format(accuracy_score(y_test, y_pred_log)))\n",
    "print('Misclassification Rate : {0:0.4f}'.format(misclassification2))\n",
    "print('Precision : {0:0.4f}'.format(precision2))\n",
    "print('True Positive Rate : {0:0.4f}'.format(true_positive_rate2))\n",
    "print('False Positive Rate : {0:0.4f}'.format(false_positive_rate2))\n",
    "print('Specificity : {0:0.4f}'.format(specificity2))\n",
    "print('Prevalence : {0:0.4f}'.format(prevalence2))\n",
    "print('ROC AUC (Logit Model) : {:.4f}'.format(ROC_AUC2))"
   ]
  },
  {
   "cell_type": "code",
   "execution_count": 61,
   "id": "e929006c",
   "metadata": {},
   "outputs": [],
   "source": [
    "#Q12.1: Tree Model (CART)\n",
    "#Decision Tree\n",
    "\n",
    "from sklearn import tree\n",
    "tree1 = tree.DecisionTreeClassifier(max_depth=3)\n",
    "tree1.fit(X_train, y_train)\n",
    "\n",
    "y_pred_dt = tree1.predict(X_test)\n",
    "y_train_score_dt = tree1.predict(X_train)"
   ]
  },
  {
   "cell_type": "code",
   "execution_count": 51,
   "id": "6690f4f3",
   "metadata": {},
   "outputs": [],
   "source": [
    "#Q12.1: Tree Model (CART)\n",
    "#Random Forest\n",
    "from sklearn.ensemble import RandomForestClassifier\n",
    "\n",
    "rf = RandomForestClassifier(n_estimators=10, max_depth = 7)\n",
    "rf.fit(X_train, y_train)\n",
    "\n",
    "y_pred_rf = rf.predict(X_test)\n",
    "y_train_score_rf = rf.predict(X_train)"
   ]
  },
  {
   "cell_type": "code",
   "execution_count": 62,
   "id": "29005a57",
   "metadata": {
    "scrolled": true
   },
   "outputs": [
    {
     "data": {
      "image/png": "[encoded data removed]",
      "text/plain": [
       "<Figure size 432x288 with 1 Axes>"
      ]
     },
     "metadata": {
      "needs_background": "light"
     },
     "output_type": "display_data"
    },
    {
     "data": {
      "image/png": "[encoded data removed]",
      "text/plain": [
       "<Figure size 1200x1200 with 1 Axes>"
      ]
     },
     "metadata": {
      "needs_background": "light"
     },
     "output_type": "display_data"
    }
   ],
   "source": [
    "#Q12.2 and Q12.3: Tree Model (CART) Plot of a Tree and Variables Selection\n",
    "\n",
    "fn = ['education_num', 'relationship', 'age' ,'hours_per_week']\n",
    "cn = ['0', '1'] \n",
    "\n",
    "tree.plot_tree(tree1)\n",
    "\n",
    "fig, axes = plt.subplots(nrows = 1,ncols = 1,figsize = (4,4), dpi=300)\n",
    "tree.plot_tree(tree1,\n",
    "               feature_names = fn, \n",
    "               class_names=cn,\n",
    "               filled = True);\n",
    "plt.show()\n"
   ]
  },
  {
   "cell_type": "code",
   "execution_count": 67,
   "id": "0d345f74",
   "metadata": {},
   "outputs": [
    {
     "name": "stdout",
     "output_type": "stream",
     "text": [
      "Confusion matrix\n",
      "\n",
      " [[1232466   81411]\n",
      " [ 210261  220726]]\n",
      "\n",
      "True Positives(TP) =  1232466\n",
      "\n",
      "True Negatives(TN) =  220726\n",
      "\n",
      "False Positives(FP) =  81411\n",
      "\n",
      "False Negatives(FN) =  210261\n"
     ]
    },
    {
     "data": {
      "text/plain": [
       "<AxesSubplot:>"
      ]
     },
     "execution_count": 67,
     "metadata": {},
     "output_type": "execute_result"
    },
    {
     "data": {
      "image/png": "[encoded data removed]",
      "text/plain": [
       "<Figure size 432x288 with 2 Axes>"
      ]
     },
     "metadata": {
      "needs_background": "light"
     },
     "output_type": "display_data"
    }
   ],
   "source": [
    "#Q12.4 Tree Model Confusion Table\n",
    "from sklearn.metrics import confusion_matrix\n",
    "from sklearn.metrics import classification_report\n",
    "\n",
    "cm3 = confusion_matrix(y_test, y_pred_rf)\n",
    "\n",
    "TP3 = cm3[0,0]\n",
    "TN3 = cm3[1,1]\n",
    "FP3 = cm3[0,1]\n",
    "FN3 = cm3[1,0]\n",
    "\n",
    "print('Confusion matrix\\n\\n', cm3)\n",
    "\n",
    "print('\\nTrue Positives(TP) = ', cm3[0,0])\n",
    "\n",
    "print('\\nTrue Negatives(TN) = ', cm3[1,1])\n",
    "\n",
    "print('\\nFalse Positives(FP) = ', cm3[0,1])\n",
    "\n",
    "print('\\nFalse Negatives(FN) = ', cm3[1,0])\n",
    "\n",
    "cm3_matrix = pd.DataFrame(data=cm3, columns=['Actual Positive:1', 'Actual Negative:0'], \n",
    "                                 index=['Predict Positive:1', 'Predict Negative:0'])\n",
    "\n",
    "sns.heatmap(cm3_matrix, annot=True, fmt='d', cmap='YlGnBu')"
   ]
  },
  {
   "cell_type": "code",
   "execution_count": 68,
   "id": "aac5e854",
   "metadata": {},
   "outputs": [
    {
     "data": {
      "image/png": "[encoded data removed]",
      "text/plain": [
       "<Figure size 432x288 with 1 Axes>"
      ]
     },
     "metadata": {
      "needs_background": "light"
     },
     "output_type": "display_data"
    }
   ],
   "source": [
    "#Q12.4 Tree Model ROC Curve\n",
    "import matplotlib.pyplot as plt\n",
    "import scikitplot as skplt\n",
    "\n",
    "predicted_probas3 = rf.predict_proba(X_test)\n",
    "skplt.metrics.plot_roc(y_test, predicted_probas3)\n",
    "plt.show()"
   ]
  },
  {
   "cell_type": "code",
   "execution_count": 69,
   "id": "c9bb9637",
   "metadata": {},
   "outputs": [
    {
     "name": "stdout",
     "output_type": "stream",
     "text": [
      "ROC AUC (Tree Model) : 0.8918\n"
     ]
    }
   ],
   "source": [
    "#Q12.4 Tree Model ROC-AUC\n",
    "\n",
    "\n",
    "ROC_AUC3 = roc_auc_score(y_test, predicted_probas3[:,1])\n",
    "\n",
    "print('ROC AUC (Tree Model) : {:.4f}'.format(ROC_AUC3))"
   ]
  },
  {
   "cell_type": "code",
   "execution_count": 70,
   "id": "cddcb736",
   "metadata": {},
   "outputs": [
    {
     "name": "stdout",
     "output_type": "stream",
     "text": [
      "Tree Model Metrics:\n",
      "Model accuracy score: 0.8328\n",
      "Misclassification Rate : 0.1672\n",
      "Precision : 0.9380\n",
      "True Positive Rate : 0.8543\n",
      "False Positive Rate : 0.2695\n",
      "Specificity : 0.7305\n",
      "Prevalence : 0.8268\n",
      "ROC AUC (Tree Model) : 0.8918\n"
     ]
    }
   ],
   "source": [
    "#Q12.5 Tree Model Metrics\n",
    "from sklearn.metrics import accuracy_score\n",
    "\n",
    "misclassification3 = (FP3 + FN3)/float(TP3 + TN3 + FP3 + FN3)\n",
    "true_positive_rate3 = TP3 / float(TP3 + FN3)\n",
    "false_positive_rate3 = FP3 / float(FP3 + TN3)\n",
    "specificity3 = TN3 / (TN3 + FP3)\n",
    "precision3 = TP3 / float(TP3 + FP3)\n",
    "prevalence3 = (TP3 + FN3)/float(TP3 + TN3 + FP3 + FN3)\n",
    "print('Tree Model Metrics:')\n",
    "print('Model accuracy score: {0:0.4f}'. format(accuracy_score(y_test, y_pred_rf)))\n",
    "print('Misclassification Rate : {0:0.4f}'.format(misclassification3))\n",
    "print('Precision : {0:0.4f}'.format(precision3))\n",
    "print('True Positive Rate : {0:0.4f}'.format(true_positive_rate3))\n",
    "print('False Positive Rate : {0:0.4f}'.format(false_positive_rate3))\n",
    "print('Specificity : {0:0.4f}'.format(specificity3))\n",
    "print('Prevalence : {0:0.4f}'.format(prevalence3))\n",
    "print('ROC AUC (Tree Model) : {:.4f}'.format(ROC_AUC3))"
   ]
  },
  {
   "cell_type": "code",
   "execution_count": 71,
   "id": "6225ce6f",
   "metadata": {},
   "outputs": [
    {
     "name": "stdout",
     "output_type": "stream",
     "text": [
      "Naïve Bayes Model Metrics:\n",
      "Model accuracy score: 0.8083\n",
      "Misclassification Rate : 0.1917\n",
      "Precision : 0.9180\n",
      "True Positive Rate : 0.8417\n",
      "False Positive Rate : 0.3454\n",
      "Specificity : 0.6546\n",
      "Prevalence : 0.8212\n",
      "ROC AUC (Naive Bayes Model) : 0.8298\n"
     ]
    }
   ],
   "source": [
    "#Q13: Compare Models\n",
    "\n",
    "print('Naïve Bayes Model Metrics:')\n",
    "print('Model accuracy score: {0:0.4f}'. format(accuracy_score(y_test, y_pred)))\n",
    "print('Misclassification Rate : {0:0.4f}'.format(misclassification))\n",
    "print('Precision : {0:0.4f}'.format(precision))\n",
    "print('True Positive Rate : {0:0.4f}'.format(true_positive_rate))\n",
    "print('False Positive Rate : {0:0.4f}'.format(false_positive_rate))\n",
    "print('Specificity : {0:0.4f}'.format(specificity))\n",
    "print('Prevalence : {0:0.4f}'.format(prevalence))\n",
    "print('ROC AUC (Naive Bayes Model) : {:.4f}'.format(ROC_AUC1))\n"
   ]
  },
  {
   "cell_type": "code",
   "execution_count": 72,
   "id": "ba9e66c0",
   "metadata": {},
   "outputs": [
    {
     "name": "stdout",
     "output_type": "stream",
     "text": [
      "Logit Model Metrics:\n",
      "Model accuracy score: 0.7996\n",
      "Misclassification Rate : 0.2004\n",
      "Precision : 0.9334\n",
      "True Positive Rate : 0.8238\n",
      "False Positive Rate : 0.3413\n",
      "Specificity : 0.6587\n",
      "Prevalence : 0.8532\n",
      "ROC AUC (Logit Model) : 0.8150\n"
     ]
    }
   ],
   "source": [
    "print('Logit Model Metrics:')\n",
    "print('Model accuracy score: {0:0.4f}'. format(accuracy_score(y_test, y_pred_log)))\n",
    "print('Misclassification Rate : {0:0.4f}'.format(misclassification2))\n",
    "print('Precision : {0:0.4f}'.format(precision2))\n",
    "print('True Positive Rate : {0:0.4f}'.format(true_positive_rate2))\n",
    "print('False Positive Rate : {0:0.4f}'.format(false_positive_rate2))\n",
    "print('Specificity : {0:0.4f}'.format(specificity2))\n",
    "print('Prevalence : {0:0.4f}'.format(prevalence2))\n",
    "print('ROC AUC (Logit Model) : {:.4f}'.format(ROC_AUC2))\n"
   ]
  },
  {
   "cell_type": "code",
   "execution_count": 73,
   "id": "9fb4d789",
   "metadata": {},
   "outputs": [
    {
     "name": "stdout",
     "output_type": "stream",
     "text": [
      "Random Forest Model Metrics:\n",
      "Model accuracy score: 0.8328\n",
      "Misclassification Rate : 0.1672\n",
      "Precision : 0.9380\n",
      "True Positive Rate : 0.8543\n",
      "False Positive Rate : 0.2695\n",
      "Specificity : 0.7305\n",
      "Prevalence : 0.8268\n",
      "ROC AUC (Tree Model) : 0.8918\n"
     ]
    }
   ],
   "source": [
    "print('Random Forest Model Metrics:')\n",
    "print('Model accuracy score: {0:0.4f}'. format(accuracy_score(y_test, y_pred_rf)))\n",
    "print('Misclassification Rate : {0:0.4f}'.format(misclassification3))\n",
    "print('Precision : {0:0.4f}'.format(precision3))\n",
    "print('True Positive Rate : {0:0.4f}'.format(true_positive_rate3))\n",
    "print('False Positive Rate : {0:0.4f}'.format(false_positive_rate3))\n",
    "print('Specificity : {0:0.4f}'.format(specificity3))\n",
    "print('Prevalence : {0:0.4f}'.format(prevalence3))\n",
    "print('ROC AUC (Tree Model) : {:.4f}'.format(ROC_AUC3))"
   ]
  }
 ],
 "metadata": {
  "kernelspec": {
   "display_name": "Python 3",
   "language": "python",
   "name": "python3"
  },
  "language_info": {
   "codemirror_mode": {
    "name": "ipython",
    "version": 3
   },
   "file_extension": ".py",
   "mimetype": "text/x-python",
   "name": "python",
   "nbconvert_exporter": "python",
   "pygments_lexer": "ipython3",
   "version": "3.8.8"
  }
 },
 "nbformat": 4,
 "nbformat_minor": 5
}
